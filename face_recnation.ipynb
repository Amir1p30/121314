{
 "cells": [
  {
   "cell_type": "code",
   "execution_count": 20,
   "metadata": {},
   "outputs": [],
   "source": [
    "import face_recognition as fr\n",
    "import cv2\n",
    "import numpy as np"
   ]
  },
  {
   "cell_type": "code",
   "execution_count": 21,
   "metadata": {},
   "outputs": [],
   "source": [
    "y=fr.load_image_file('amir.jpeg')"
   ]
  },
  {
   "cell_type": "code",
   "execution_count": 22,
   "metadata": {},
   "outputs": [],
   "source": [
    "my_face=fr.face_encodings(y)[0]"
   ]
  },
  {
   "cell_type": "code",
   "execution_count": 23,
   "metadata": {},
   "outputs": [],
   "source": [
    "locate=fr.face_locations(y)"
   ]
  },
  {
   "cell_type": "code",
   "execution_count": 34,
   "metadata": {},
   "outputs": [
    {
     "data": {
      "text/plain": [
       "array([-0.14100474,  0.12037272,  0.02150853, -0.04691995, -0.11741293,\n",
       "        0.02517393, -0.03200291, -0.07208744,  0.25235778, -0.16872044,\n",
       "        0.13814776, -0.01383099, -0.24273336, -0.02345677, -0.07952952,\n",
       "        0.08606812, -0.04531495, -0.17123422, -0.10376706, -0.07565394,\n",
       "        0.0311297 ,  0.01383219,  0.00972306,  0.01495937, -0.19217907,\n",
       "       -0.30431843, -0.05173902, -0.10367612, -0.03504299, -0.05236669,\n",
       "       -0.02588603,  0.08097547, -0.25188223, -0.05302507, -0.02875883,\n",
       "        0.12289051,  0.03245077,  0.09379862,  0.16956596, -0.00086644,\n",
       "       -0.18580405,  0.00327579,  0.03216171,  0.22614975,  0.14644758,\n",
       "        0.04180833, -0.00117953, -0.07558404,  0.0661689 , -0.25431487,\n",
       "        0.09711744,  0.14166634,  0.09384514,  0.02337346,  0.11150803,\n",
       "       -0.13563876,  0.00483538,  0.03671584, -0.13111949,  0.02599539,\n",
       "        0.08519317,  0.02486403, -0.09214146, -0.02116476,  0.21618073,\n",
       "        0.1226819 , -0.05513963, -0.10427408,  0.16180238, -0.20657176,\n",
       "        0.01629967,  0.09507286, -0.06692432, -0.16639614, -0.22950429,\n",
       "        0.07457228,  0.49835628,  0.22476527, -0.13690975,  0.08527301,\n",
       "       -0.07923291, -0.04429186,  0.10197405, -0.03642855, -0.1204178 ,\n",
       "        0.07989056, -0.03953397,  0.12701243,  0.22762507,  0.0235127 ,\n",
       "       -0.04558815,  0.17065416,  0.05048782,  0.05375038,  0.04106707,\n",
       "       -0.05786755, -0.02955079, -0.04883213, -0.18796398,  0.02722553,\n",
       "        0.00050008, -0.0330544 , -0.02116172,  0.03449762, -0.14662634,\n",
       "        0.08544121, -0.00153859, -0.08294738, -0.08188915,  0.10952537,\n",
       "       -0.16235946, -0.02912066,  0.1574191 , -0.21842697,  0.17299832,\n",
       "        0.0833322 , -0.02747118,  0.14172481,  0.13657621,  0.05305286,\n",
       "        0.07024214,  0.00738253, -0.09413431, -0.11957976,  0.11138576,\n",
       "       -0.07597854,  0.1520986 ,  0.03236711])"
      ]
     },
     "execution_count": 34,
     "metadata": {},
     "output_type": "execute_result"
    }
   ],
   "source": [
    "my_face"
   ]
  },
  {
   "cell_type": "code",
   "execution_count": 25,
   "metadata": {},
   "outputs": [],
   "source": [
    "while True:\n",
    "    cap=cv2.VideoCapture(0)\n",
    "    _,img=cap.read()\n",
    "    cv2.imshow('ax',img)\n",
    "\n",
    "    if cv2.waitKey(1) ==ord('q'):\n",
    "        break\n",
    "        cv2.destroyAllWindows()"
   ]
  },
  {
   "cell_type": "code",
   "execution_count": 47,
   "metadata": {},
   "outputs": [],
   "source": [
    "# face_info2=fr.face_encodings(img_test)[0]"
   ]
  },
  {
   "cell_type": "code",
   "execution_count": 66,
   "metadata": {},
   "outputs": [
    {
     "ename": "IndexError",
     "evalue": "list index out of range",
     "output_type": "error",
     "traceback": [
      "\u001b[0;31m---------------------------------------------------------------------------\u001b[0m",
      "\u001b[0;31mIndexError\u001b[0m                                Traceback (most recent call last)",
      "Cell \u001b[0;32mIn[66], line 11\u001b[0m\n\u001b[1;32m      8\u001b[0m locate\u001b[38;5;241m=\u001b[39mfr\u001b[38;5;241m.\u001b[39mface_locations(img2)\n\u001b[1;32m      9\u001b[0m img\u001b[38;5;241m=\u001b[39mcv2\u001b[38;5;241m.\u001b[39mrectangle(img2,(locate[\u001b[38;5;241m0\u001b[39m][\u001b[38;5;241m3\u001b[39m],locate[\u001b[38;5;241m0\u001b[39m][\u001b[38;5;241m0\u001b[39m]),(locate[\u001b[38;5;241m0\u001b[39m][\u001b[38;5;241m1\u001b[39m],locate[\u001b[38;5;241m0\u001b[39m][\u001b[38;5;241m2\u001b[39m]),(\u001b[38;5;241m255\u001b[39m,\u001b[38;5;241m0\u001b[39m,\u001b[38;5;241m0\u001b[39m),\u001b[38;5;241m3\u001b[39m)\n\u001b[0;32m---> 11\u001b[0m face_info\u001b[38;5;241m=\u001b[39m\u001b[43mfr\u001b[49m\u001b[38;5;241;43m.\u001b[39;49m\u001b[43mface_encodings\u001b[49m\u001b[43m(\u001b[49m\u001b[43mimg\u001b[49m\u001b[43m)\u001b[49m\u001b[43m[\u001b[49m\u001b[38;5;241;43m0\u001b[39;49m\u001b[43m]\u001b[49m\n\u001b[1;32m     12\u001b[0m result\u001b[38;5;241m=\u001b[39mfr\u001b[38;5;241m.\u001b[39mcompare_faces([my_face][\u001b[38;5;241m0\u001b[39m],face_info[\u001b[38;5;241m0\u001b[39m])\n\u001b[1;32m     14\u001b[0m \u001b[38;5;28;01mif\u001b[39;00m result[\u001b[38;5;241m0\u001b[39m]\u001b[38;5;241m==\u001b[39m\u001b[38;5;28;01mTrue\u001b[39;00m:\n",
      "\u001b[0;31mIndexError\u001b[0m: list index out of range"
     ]
    }
   ],
   "source": [
    "cap=cv2.VideoCapture(0)\n",
    "while True:\n",
    "    \n",
    "    _,img=cap.read()\n",
    "\n",
    "    \n",
    "    img2=cv2.cvtColor(img,cv2.COLOR_BGR2RGB)\n",
    "    locate=fr.face_locations(img2)\n",
    "    img=cv2.rectangle(img2,(locate[0][3],locate[0][0]),(locate[0][1],locate[0][2]),(255,0,0),3)\n",
    "            \n",
    "    face_info=fr.face_encodings(img)[0]\n",
    "    result=fr.compare_faces([my_face][0],face_info[0])\n",
    "\n",
    "    if result[0]==True:\n",
    "        cv2.putText(img,'Amir',(locate[0][3] + 6 ,locate[0][0] - 6),cv2.FONT_HERSHEY_COMPLEX,1.0,(0,0,200),3)\n",
    "    else:\n",
    "         cv2.putText(img,'Unknow',(locate[0][3] + 6 ,locate[0][0] - 6),cv2.FONT_HERSHEY_COMPLEX,1.0,(250,0,0),3)\n",
    "    try:\n",
    "        cv2.imshow('image',img)\n",
    "   \n",
    "\n",
    "\n",
    "    except IndexError:\n",
    "        print('your face out of range')\n",
    "        continue\n",
    "\n",
    "\n",
    "    if cv2.waitKey(1)& 0xFF == ord('q'):\n",
    "        break\n",
    "\n",
    "cap.release()\n",
    "cv2.destroyAllWindows()"
   ]
  },
  {
   "cell_type": "code",
   "execution_count": null,
   "metadata": {},
   "outputs": [],
   "source": []
  }
 ],
 "metadata": {
  "kernelspec": {
   "display_name": "Python 3",
   "language": "python",
   "name": "python3"
  },
  "language_info": {
   "codemirror_mode": {
    "name": "ipython",
    "version": 3
   },
   "file_extension": ".py",
   "mimetype": "text/x-python",
   "name": "python",
   "nbconvert_exporter": "python",
   "pygments_lexer": "ipython3",
   "version": "3.10.6"
  }
 },
 "nbformat": 4,
 "nbformat_minor": 2
}
